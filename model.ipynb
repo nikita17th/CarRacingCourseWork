{
 "cells": [
  {
   "cell_type": "code",
   "execution_count": null,
   "id": "initial_id",
   "metadata": {
    "collapsed": true
   },
   "outputs": [],
   "source": [
    "!pip3 install swig\n",
    "!pip3 install \"gymnasium[box2d]\"\n",
    "!pip3 install \"stable-baselines3[extra]\"\n",
    "!pip3 install tensorboard"
   ]
  },
  {
   "metadata": {
    "ExecuteTime": {
     "end_time": "2024-11-03T16:38:49.795973Z",
     "start_time": "2024-11-03T16:38:49.792362Z"
    }
   },
   "cell_type": "code",
   "source": [
    "import gymnasium as gym\n",
    "\n",
    "from stable_baselines3 import PPO\n",
    "from stable_baselines3.common.monitor import Monitor\n",
    "from stable_baselines3.common.evaluation import evaluate_policy\n",
    "from stable_baselines3.common.vec_env import DummyVecEnv, VecFrameStack\n",
    "from stable_baselines3.common.callbacks import EvalCallback, CheckpointCallback\n",
    "\n",
    "from gymnasium.wrappers import RecordVideo"
   ],
   "id": "1ed7fda8b43aad69",
   "outputs": [],
   "execution_count": 14
  },
  {
   "metadata": {
    "ExecuteTime": {
     "end_time": "2024-11-03T15:13:22.460174Z",
     "start_time": "2024-11-03T15:13:22.458561Z"
    }
   },
   "cell_type": "code",
   "source": [
    "def create_environment(env_name='CarRacing-v2', render_mode='rgb_array'):\n",
    "    env = gym.make(env_name, render_mode=render_mode)\n",
    "    env = Monitor(env)\n",
    "    return env"
   ],
   "id": "494b15c33ddc1062",
   "outputs": [],
   "execution_count": 5
  },
  {
   "metadata": {
    "ExecuteTime": {
     "end_time": "2024-11-03T15:13:22.462339Z",
     "start_time": "2024-11-03T15:13:22.460764Z"
    }
   },
   "cell_type": "code",
   "source": [
    "def setup_train_environment(env_name='CarRacing-v2', n_stack=4):\n",
    "    env = create_environment(env_name)\n",
    "    env = DummyVecEnv([lambda: env])\n",
    "    env = VecFrameStack(env, n_stack=n_stack)\n",
    "    return env"
   ],
   "id": "dd3b431daa09e611",
   "outputs": [],
   "execution_count": 6
  },
  {
   "metadata": {
    "ExecuteTime": {
     "end_time": "2024-11-03T15:14:48.804272Z",
     "start_time": "2024-11-03T15:14:48.800097Z"
    }
   },
   "cell_type": "code",
   "source": [
    "def setup_recording_env(env_name='CarRacing-v2', video_folder='./videos/', n_stack=4):\n",
    "    test_env = create_environment(env_name)\n",
    "    test_env = RecordVideo(test_env, video_folder=video_folder, episode_trigger=lambda e: True)\n",
    "    test_env = VecFrameStack(DummyVecEnv([lambda: test_env]), n_stack=n_stack)\n",
    "    return test_env"
   ],
   "id": "b4337181052f2b2",
   "outputs": [],
   "execution_count": 16
  },
  {
   "metadata": {
    "ExecuteTime": {
     "end_time": "2024-11-03T15:13:23.643332Z",
     "start_time": "2024-11-03T15:13:23.640878Z"
    }
   },
   "cell_type": "code",
   "source": [
    "def linear_schedule_with_end(initial_value, final_value):\n",
    "    def func(progress_remaining):\n",
    "        return initial_value * progress_remaining + final_value * (1 - progress_remaining)\n",
    "\n",
    "    return func"
   ],
   "id": "d09f585da5198fc8",
   "outputs": [],
   "execution_count": 8
  },
  {
   "metadata": {
    "ExecuteTime": {
     "end_time": "2024-11-03T15:13:25.495137Z",
     "start_time": "2024-11-03T15:13:25.492010Z"
    }
   },
   "cell_type": "code",
   "source": [
    "def first_stage_model(env):\n",
    "    model = PPO('CnnPolicy',\n",
    "                env=env,\n",
    "                learning_rate=linear_schedule_with_end(3e-4, 1e-4),\n",
    "                n_steps=2048,\n",
    "                clip_range=linear_schedule_with_end(0.2, 0.1),\n",
    "                verbose=1,\n",
    "                batch_size=128,\n",
    "                n_epochs=10,\n",
    "                stats_window_size=10,\n",
    "                tensorboard_log=\"./ppo_carracing_tensorboard_n_stack_4_v2/\")\n",
    "\n"
   ],
   "id": "e358a60d786bbe81",
   "outputs": [],
   "execution_count": 9
  },
  {
   "metadata": {
    "ExecuteTime": {
     "end_time": "2024-11-03T15:13:25.758864Z",
     "start_time": "2024-11-03T15:13:25.755938Z"
    }
   },
   "cell_type": "code",
   "source": [
    "def first_stage_learn(env, total_timesteps=200000):\n",
    "    eval_callback = EvalCallback(eval_env=env,\n",
    "                                 best_model_save_path=f'./best_model_n_stack_4_v2_200000',\n",
    "                                 log_path=f'./best_model_n_stack_4_v2_200000',\n",
    "                                 deterministic=False,\n",
    "                                 eval_freq=5000)\n",
    "    checkpoint_callback = CheckpointCallback(save_freq=5000,\n",
    "                                             save_path='./models_n_stack_4_v2_200000/',\n",
    "                                             name_prefix='ppo_carracing')\n",
    "    model = first_stage_model(env)\n",
    "    model.learn(total_timesteps=total_timesteps,\n",
    "                callback=[checkpoint_callback, eval_callback])"
   ],
   "id": "1cc0aab51c5f6c09",
   "outputs": [],
   "execution_count": 10
  },
  {
   "metadata": {
    "ExecuteTime": {
     "end_time": "2024-11-03T15:13:27.835365Z",
     "start_time": "2024-11-03T15:13:27.831683Z"
    }
   },
   "cell_type": "code",
   "source": [
    "def second_stage_model(env, path_to_model):\n",
    "    model = PPO.load(path_to_model)\n",
    "    model.save(\"ppo_temp_model\")\n",
    "    model = PPO('CnnPolicy',\n",
    "                env=env,\n",
    "                learning_rate=1e-5,\n",
    "                n_steps=2048,\n",
    "                clip_range=0.1,\n",
    "                verbose=1,\n",
    "                batch_size=128,\n",
    "                n_epochs=10,\n",
    "                stats_window_size=10,\n",
    "                tensorboard_log=\"./ppo_carracing_tensorboard_n_stack_4_v4/\")\n",
    "    model.set_parameters(\"ppo_temp_model\")\n",
    "    return model"
   ],
   "id": "c401efc747dde84",
   "outputs": [],
   "execution_count": 11
  },
  {
   "metadata": {
    "ExecuteTime": {
     "end_time": "2024-11-03T15:13:28.559968Z",
     "start_time": "2024-11-03T15:13:28.556116Z"
    }
   },
   "cell_type": "code",
   "source": [
    "def second_stage_learn(env, total_timesteps=200000):\n",
    "    eval_callback = EvalCallback(env,\n",
    "                                 best_model_save_path=f'./best_model_n_stack_4_v4_200000',\n",
    "                                 log_path=f'./best_model_n_stack_4_v4_200000',\n",
    "                                 deterministic=False,\n",
    "                                 eval_freq=5000)\n",
    "    checkpoint_callback = CheckpointCallback(save_freq=5000,\n",
    "                                             save_path=f'./models_n_stack_4_v4_200000/',\n",
    "                                             name_prefix='ppo_carracing')\n",
    "    model = second_stage_model(env, 'best_model_n_stack_4_v2_200000/best_model.zip')\n",
    "    model.learn(total_timesteps=total_timesteps,\n",
    "                callback=[checkpoint_callback, eval_callback])"
   ],
   "id": "922dbc41a3c1590a",
   "outputs": [],
   "execution_count": 12
  },
  {
   "metadata": {},
   "cell_type": "markdown",
   "source": "",
   "id": "7a6d632a2211a6ca"
  },
  {
   "metadata": {},
   "cell_type": "code",
   "outputs": [],
   "execution_count": null,
   "source": "first_stage_learn(setup_train_environment(), total_timesteps=200000)",
   "id": "8d2e6a4cb03e18f0"
  },
  {
   "metadata": {},
   "cell_type": "code",
   "outputs": [],
   "execution_count": null,
   "source": "second_stage_learn(setup_train_environment(), total_timesteps=200000)",
   "id": "97008c1a99f91553"
  },
  {
   "metadata": {},
   "cell_type": "code",
   "source": [
    "def vizual(path_to_model):\n",
    "    test_env = setup_recording_env()\n",
    "    model = PPO.load(path_to_model)\n",
    "    obs = test_env.reset()\n",
    "    while True:\n",
    "        action, _states = model.predict(obs)\n",
    "        obs, rewards, done, _ = test_env.step(action)\n",
    "        test_env.render()\n",
    "        if done[0]:\n",
    "            print(\"Episode terminated\")\n",
    "            break\n",
    "    \n",
    "    test_env.close()"
   ],
   "id": "3f99551b45457c5c",
   "outputs": [],
   "execution_count": null
  },
  {
   "metadata": {
    "ExecuteTime": {
     "end_time": "2024-11-03T15:49:06.213738Z",
     "start_time": "2024-11-03T15:48:46.449332Z"
    }
   },
   "cell_type": "code",
   "source": "vizual(f'best_model_n_stack_4_v4_200000/best_model.zip')",
   "id": "c01464ade3786cc0",
   "outputs": [
    {
     "name": "stderr",
     "output_type": "stream",
     "text": [
      "/Users/nik-dergunov/RL_car_racing_cource_work1/RL_car_racing_cource_work1/.venv/lib/python3.10/site-packages/gymnasium/wrappers/record_video.py:94: UserWarning: \u001B[33mWARN: Overwriting existing videos at /Users/nik-dergunov/RL_car_racing_cource_work1/RL_car_racing_cource_work1/videos folder (try specifying a different `video_folder` for the `RecordVideo` wrapper if this is not desired)\u001B[0m\n",
      "  logger.warn(\n"
     ]
    },
    {
     "name": "stdout",
     "output_type": "stream",
     "text": [
      "Moviepy - Building video /Users/nik-dergunov/RL_car_racing_cource_work1/RL_car_racing_cource_work1/videos/rl-video-episode-0.mp4.\n",
      "Moviepy - Writing video /Users/nik-dergunov/RL_car_racing_cource_work1/RL_car_racing_cource_work1/videos/rl-video-episode-0.mp4\n",
      "\n"
     ]
    },
    {
     "name": "stderr",
     "output_type": "stream",
     "text": [
      "                                                                 \r"
     ]
    },
    {
     "name": "stdout",
     "output_type": "stream",
     "text": [
      "Moviepy - Done !\n",
      "Moviepy - video ready /Users/nik-dergunov/RL_car_racing_cource_work1/RL_car_racing_cource_work1/videos/rl-video-episode-0.mp4\n",
      "Episode terminated\n",
      "Moviepy - Building video /Users/nik-dergunov/RL_car_racing_cource_work1/RL_car_racing_cource_work1/videos/rl-video-episode-1.mp4.\n",
      "Moviepy - Writing video /Users/nik-dergunov/RL_car_racing_cource_work1/RL_car_racing_cource_work1/videos/rl-video-episode-1.mp4\n",
      "\n"
     ]
    },
    {
     "name": "stderr",
     "output_type": "stream",
     "text": [
      "                                                  \r"
     ]
    },
    {
     "name": "stdout",
     "output_type": "stream",
     "text": [
      "Moviepy - Done !\n",
      "Moviepy - video ready /Users/nik-dergunov/RL_car_racing_cource_work1/RL_car_racing_cource_work1/videos/rl-video-episode-1.mp4\n"
     ]
    }
   ],
   "execution_count": 27
  },
  {
   "metadata": {
    "ExecuteTime": {
     "end_time": "2024-11-03T16:35:45.864431Z",
     "start_time": "2024-11-03T16:33:47.488941Z"
    }
   },
   "cell_type": "code",
   "source": "!tensorboard --logdir=ppo_carracing_tensorboard_n_stack_4_v2/PPO_8",
   "id": "175fd664e66b98a3",
   "outputs": [
    {
     "name": "stdout",
     "output_type": "stream",
     "text": [
      "TensorFlow installation not found - running with reduced feature set.\r\n",
      "Serving TensorBoard on localhost; to expose to the network, use a proxy or pass --bind_all\r\n",
      "TensorBoard 2.18.0 at http://localhost:6006/ (Press CTRL+C to quit)\r\n",
      "^C\r\n"
     ]
    }
   ],
   "execution_count": 12
  },
  {
   "metadata": {
    "ExecuteTime": {
     "end_time": "2024-11-03T15:47:06.194203Z",
     "start_time": "2024-11-03T15:46:32.461690Z"
    }
   },
   "cell_type": "code",
   "source": "!tensorboard --logdir=ppo_carracing_tensorboard_n_stack_4_v4/PPO_5",
   "id": "7ab9d234ac8cc24b",
   "outputs": [
    {
     "name": "stdout",
     "output_type": "stream",
     "text": [
      "TensorFlow installation not found - running with reduced feature set.\r\n",
      "Serving TensorBoard on localhost; to expose to the network, use a proxy or pass --bind_all\r\n",
      "TensorBoard 2.18.0 at http://localhost:6061/ (Press CTRL+C to quit)\r\n",
      "^C\r\n"
     ]
    }
   ],
   "execution_count": 25
  },
  {
   "metadata": {
    "ExecuteTime": {
     "end_time": "2024-11-03T16:38:54.739514Z",
     "start_time": "2024-11-03T16:38:54.594888Z"
    }
   },
   "cell_type": "code",
   "source": [
    "evaluate = evaluate_policy(PPO.load(\"best_model_n_stack_4_v2_200000/best_model.zip\"), setup_train_environment(), n_eval_episodes=100, render=False, deterministic=False)\n",
    "print(evaluate)"
   ],
   "id": "7291aab2b21a84bf",
   "outputs": [
    {
     "ename": "NameError",
     "evalue": "name 'setup_train_environment' is not defined",
     "output_type": "error",
     "traceback": [
      "\u001B[0;31m---------------------------------------------------------------------------\u001B[0m",
      "\u001B[0;31mNameError\u001B[0m                                 Traceback (most recent call last)",
      "Cell \u001B[0;32mIn[15], line 1\u001B[0m\n\u001B[0;32m----> 1\u001B[0m evaluate \u001B[38;5;241m=\u001B[39m evaluate_policy(PPO\u001B[38;5;241m.\u001B[39mload(\u001B[38;5;124m\"\u001B[39m\u001B[38;5;124mbest_model_n_stack_4_v2_200000/best_model.zip\u001B[39m\u001B[38;5;124m\"\u001B[39m), \u001B[43msetup_train_environment\u001B[49m(), n_eval_episodes\u001B[38;5;241m=\u001B[39m\u001B[38;5;241m100\u001B[39m, render\u001B[38;5;241m=\u001B[39m\u001B[38;5;28;01mFalse\u001B[39;00m, deterministic\u001B[38;5;241m=\u001B[39m\u001B[38;5;28;01mFalse\u001B[39;00m)\n\u001B[1;32m      2\u001B[0m \u001B[38;5;28mprint\u001B[39m(evaluate)\n",
      "\u001B[0;31mNameError\u001B[0m: name 'setup_train_environment' is not defined"
     ]
    }
   ],
   "execution_count": 15
  },
  {
   "metadata": {},
   "cell_type": "code",
   "outputs": [],
   "execution_count": null,
   "source": [
    "evaluate = evaluate_policy(PPO.load(\"best_model_n_stack_4_v4_200000/best_model.zip\"), setup_train_environment(), n_eval_episodes=100, render=False, deterministic=False)\n",
    "print(evaluate)"
   ],
   "id": "df6a8f92bb10512f"
  }
 ],
 "metadata": {
  "kernelspec": {
   "display_name": "Python 3",
   "language": "python",
   "name": "python3"
  },
  "language_info": {
   "codemirror_mode": {
    "name": "ipython",
    "version": 2
   },
   "file_extension": ".py",
   "mimetype": "text/x-python",
   "name": "python",
   "nbconvert_exporter": "python",
   "pygments_lexer": "ipython2",
   "version": "2.7.6"
  }
 },
 "nbformat": 4,
 "nbformat_minor": 5
}
