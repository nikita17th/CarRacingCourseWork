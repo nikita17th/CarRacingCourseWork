{
 "cells": [
  {
   "cell_type": "code",
   "execution_count": null,
   "id": "initial_id",
   "metadata": {
    "collapsed": true
   },
   "outputs": [],
   "source": [
    "!pip3 install swig\n",
    "!pip3 install \"gymnasium[box2d]\"\n",
    "!pip3 install \"stable-baselines3[extra]\"\n",
    "!pip3 install tensorboard"
   ]
  },
  {
   "metadata": {
    "ExecuteTime": {
     "end_time": "2024-11-03T16:41:29.837951Z",
     "start_time": "2024-11-03T16:41:28.104167Z"
    }
   },
   "cell_type": "code",
   "source": [
    "import gymnasium as gym\n",
    "\n",
    "from stable_baselines3 import PPO\n",
    "from stable_baselines3.common.monitor import Monitor\n",
    "from stable_baselines3.common.evaluation import evaluate_policy\n",
    "from stable_baselines3.common.vec_env import DummyVecEnv, VecFrameStack\n",
    "from stable_baselines3.common.callbacks import EvalCallback, CheckpointCallback\n",
    "\n",
    "from gymnasium.wrappers import RecordVideo"
   ],
   "id": "1ed7fda8b43aad69",
   "outputs": [],
   "execution_count": 1
  },
  {
   "metadata": {
    "ExecuteTime": {
     "end_time": "2024-11-03T16:41:31.336989Z",
     "start_time": "2024-11-03T16:41:31.334664Z"
    }
   },
   "cell_type": "code",
   "source": [
    "def create_environment(env_name='CarRacing-v2', render_mode='rgb_array'):\n",
    "    env = gym.make(env_name, render_mode=render_mode)\n",
    "    env = Monitor(env)\n",
    "    return env"
   ],
   "id": "494b15c33ddc1062",
   "outputs": [],
   "execution_count": 2
  },
  {
   "metadata": {
    "ExecuteTime": {
     "end_time": "2024-11-03T16:41:31.471814Z",
     "start_time": "2024-11-03T16:41:31.469883Z"
    }
   },
   "cell_type": "code",
   "source": [
    "def setup_train_environment(env_name='CarRacing-v2', n_stack=4):\n",
    "    env = create_environment(env_name)\n",
    "    env = DummyVecEnv([lambda: env])\n",
    "    env = VecFrameStack(env, n_stack=n_stack)\n",
    "    return env"
   ],
   "id": "dd3b431daa09e611",
   "outputs": [],
   "execution_count": 3
  },
  {
   "metadata": {
    "ExecuteTime": {
     "end_time": "2024-11-03T16:41:31.662679Z",
     "start_time": "2024-11-03T16:41:31.660403Z"
    }
   },
   "cell_type": "code",
   "source": [
    "def setup_recording_env(env_name='CarRacing-v2', video_folder='./videos/', n_stack=4):\n",
    "    test_env = create_environment(env_name)\n",
    "    test_env = RecordVideo(test_env, video_folder=video_folder, episode_trigger=lambda e: True)\n",
    "    test_env = VecFrameStack(DummyVecEnv([lambda: test_env]), n_stack=n_stack)\n",
    "    return test_env"
   ],
   "id": "b4337181052f2b2",
   "outputs": [],
   "execution_count": 4
  },
  {
   "metadata": {
    "ExecuteTime": {
     "end_time": "2024-11-03T16:41:32.172695Z",
     "start_time": "2024-11-03T16:41:32.170509Z"
    }
   },
   "cell_type": "code",
   "source": [
    "def linear_schedule_with_end(initial_value, final_value):\n",
    "    def func(progress_remaining):\n",
    "        return initial_value * progress_remaining + final_value * (1 - progress_remaining)\n",
    "\n",
    "    return func"
   ],
   "id": "d09f585da5198fc8",
   "outputs": [],
   "execution_count": 5
  },
  {
   "metadata": {
    "ExecuteTime": {
     "end_time": "2024-11-03T16:41:42.827166Z",
     "start_time": "2024-11-03T16:41:42.824572Z"
    }
   },
   "cell_type": "code",
   "source": [
    "def first_stage_model(env):\n",
    "    model = PPO('CnnPolicy',\n",
    "                env=env,\n",
    "                learning_rate=linear_schedule_with_end(3e-4, 1e-4),\n",
    "                n_steps=2048,\n",
    "                clip_range=linear_schedule_with_end(0.2, 0.1),\n",
    "                verbose=1,\n",
    "                batch_size=128,\n",
    "                n_epochs=10,\n",
    "                stats_window_size=10,\n",
    "                tensorboard_log=\"./ppo_carracing_tensorboard_n_stack_4_v2/\")\n",
    "    return model"
   ],
   "id": "e358a60d786bbe81",
   "outputs": [],
   "execution_count": 6
  },
  {
   "metadata": {
    "ExecuteTime": {
     "end_time": "2024-11-03T16:41:53.257532Z",
     "start_time": "2024-11-03T16:41:53.254151Z"
    }
   },
   "cell_type": "code",
   "source": [
    "def first_stage_learn(env, total_timesteps=200000):\n",
    "    eval_callback = EvalCallback(eval_env=env,\n",
    "                                 best_model_save_path=f'./best_model_n_stack_4_v2_200000',\n",
    "                                 log_path=f'./best_model_n_stack_4_v2_200000',\n",
    "                                 deterministic=False,\n",
    "                                 eval_freq=5000)\n",
    "    checkpoint_callback = CheckpointCallback(save_freq=5000,\n",
    "                                             save_path='./models_n_stack_4_v2_200000/',\n",
    "                                             name_prefix='ppo_carracing')\n",
    "    model = first_stage_model(env)\n",
    "    model.learn(total_timesteps=total_timesteps,\n",
    "                callback=[checkpoint_callback, eval_callback])"
   ],
   "id": "1cc0aab51c5f6c09",
   "outputs": [],
   "execution_count": 7
  },
  {
   "metadata": {
    "ExecuteTime": {
     "end_time": "2024-11-03T16:41:53.474333Z",
     "start_time": "2024-11-03T16:41:53.471262Z"
    }
   },
   "cell_type": "code",
   "source": [
    "def second_stage_model(env, path_to_model):\n",
    "    model = PPO.load(path_to_model)\n",
    "    model.save(\"ppo_temp_model\")\n",
    "    model = PPO('CnnPolicy',\n",
    "                env=env,\n",
    "                learning_rate=1e-5,\n",
    "                n_steps=2048,\n",
    "                clip_range=0.1,\n",
    "                verbose=1,\n",
    "                batch_size=128,\n",
    "                n_epochs=10,\n",
    "                stats_window_size=10,\n",
    "                tensorboard_log=\"./ppo_carracing_tensorboard_n_stack_4_v4/\")\n",
    "    model.set_parameters(\"ppo_temp_model\")\n",
    "    return model"
   ],
   "id": "c401efc747dde84",
   "outputs": [],
   "execution_count": 8
  },
  {
   "metadata": {
    "ExecuteTime": {
     "end_time": "2024-11-03T16:41:53.898387Z",
     "start_time": "2024-11-03T16:41:53.895886Z"
    }
   },
   "cell_type": "code",
   "source": [
    "def second_stage_learn(env, total_timesteps=200000):\n",
    "    eval_callback = EvalCallback(env,\n",
    "                                 best_model_save_path=f'./best_model_n_stack_4_v4_200000',\n",
    "                                 log_path=f'./best_model_n_stack_4_v4_200000',\n",
    "                                 deterministic=False,\n",
    "                                 eval_freq=5000)\n",
    "    checkpoint_callback = CheckpointCallback(save_freq=5000,\n",
    "                                             save_path=f'./models_n_stack_4_v4_200000/',\n",
    "                                             name_prefix='ppo_carracing')\n",
    "    model = second_stage_model(env, 'best_model_n_stack_4_v2_200000/best_model.zip')\n",
    "    model.learn(total_timesteps=total_timesteps,\n",
    "                callback=[checkpoint_callback, eval_callback])"
   ],
   "id": "922dbc41a3c1590a",
   "outputs": [],
   "execution_count": 9
  },
  {
   "metadata": {},
   "cell_type": "code",
   "outputs": [],
   "execution_count": null,
   "source": "first_stage_learn(setup_train_environment(), total_timesteps=200000)",
   "id": "8d2e6a4cb03e18f0"
  },
  {
   "metadata": {},
   "cell_type": "code",
   "outputs": [],
   "execution_count": null,
   "source": "second_stage_learn(setup_train_environment(), total_timesteps=200000)",
   "id": "97008c1a99f91553"
  },
  {
   "metadata": {
    "ExecuteTime": {
     "end_time": "2024-11-03T17:13:38.927077Z",
     "start_time": "2024-11-03T17:13:38.923415Z"
    }
   },
   "cell_type": "code",
   "source": [
    "def vizual(path_to_model):\n",
    "    test_env = setup_recording_env()\n",
    "    model = PPO.load(path_to_model)\n",
    "    obs = test_env.reset()\n",
    "    while True:\n",
    "        action, _states = model.predict(obs)\n",
    "        obs, rewards, done, _ = test_env.step(action)\n",
    "        test_env.render()\n",
    "        if done[0]:\n",
    "            print(\"Episode terminated\")\n",
    "            break\n",
    "    \n",
    "    test_env.close()"
   ],
   "id": "3f99551b45457c5c",
   "outputs": [],
   "execution_count": 14
  },
  {
   "metadata": {
    "ExecuteTime": {
     "end_time": "2024-11-03T17:15:15.747929Z",
     "start_time": "2024-11-03T17:14:57.859681Z"
    }
   },
   "cell_type": "code",
   "source": "vizual(f'best_model_n_stack_4_v2_200000/best_model.zip')",
   "id": "c01464ade3786cc0",
   "outputs": [
    {
     "name": "stderr",
     "output_type": "stream",
     "text": [
      "/Users/nik-dergunov/RL_car_racing_cource_work1/RL_car_racing_cource_work1/.venv/lib/python3.10/site-packages/gymnasium/wrappers/record_video.py:94: UserWarning: \u001B[33mWARN: Overwriting existing videos at /Users/nik-dergunov/RL_car_racing_cource_work1/RL_car_racing_cource_work1/videos folder (try specifying a different `video_folder` for the `RecordVideo` wrapper if this is not desired)\u001B[0m\n",
      "  logger.warn(\n"
     ]
    },
    {
     "name": "stdout",
     "output_type": "stream",
     "text": [
      "Moviepy - Building video /Users/nik-dergunov/RL_car_racing_cource_work1/RL_car_racing_cource_work1/videos/rl-video-episode-0.mp4.\n",
      "Moviepy - Writing video /Users/nik-dergunov/RL_car_racing_cource_work1/RL_car_racing_cource_work1/videos/rl-video-episode-0.mp4\n",
      "\n"
     ]
    },
    {
     "name": "stderr",
     "output_type": "stream",
     "text": [
      "                                                                 \r"
     ]
    },
    {
     "name": "stdout",
     "output_type": "stream",
     "text": [
      "Moviepy - Done !\n",
      "Moviepy - video ready /Users/nik-dergunov/RL_car_racing_cource_work1/RL_car_racing_cource_work1/videos/rl-video-episode-0.mp4\n",
      "Episode terminated\n",
      "Moviepy - Building video /Users/nik-dergunov/RL_car_racing_cource_work1/RL_car_racing_cource_work1/videos/rl-video-episode-1.mp4.\n",
      "Moviepy - Writing video /Users/nik-dergunov/RL_car_racing_cource_work1/RL_car_racing_cource_work1/videos/rl-video-episode-1.mp4\n",
      "\n"
     ]
    },
    {
     "name": "stderr",
     "output_type": "stream",
     "text": [
      "                                                  "
     ]
    },
    {
     "name": "stdout",
     "output_type": "stream",
     "text": [
      "Moviepy - Done !\n",
      "Moviepy - video ready /Users/nik-dergunov/RL_car_racing_cource_work1/RL_car_racing_cource_work1/videos/rl-video-episode-1.mp4\n"
     ]
    },
    {
     "name": "stderr",
     "output_type": "stream",
     "text": [
      "\r"
     ]
    }
   ],
   "execution_count": 16
  },
  {
   "metadata": {
    "ExecuteTime": {
     "end_time": "2024-11-03T17:16:11.804280Z",
     "start_time": "2024-11-03T17:15:57.124411Z"
    }
   },
   "cell_type": "code",
   "source": "vizual(f'best_model_n_stack_4_v4_200000/best_model.zip')",
   "id": "16712ca0efa8c694",
   "outputs": [
    {
     "name": "stderr",
     "output_type": "stream",
     "text": [
      "/Users/nik-dergunov/RL_car_racing_cource_work1/RL_car_racing_cource_work1/.venv/lib/python3.10/site-packages/gymnasium/wrappers/record_video.py:94: UserWarning: \u001B[33mWARN: Overwriting existing videos at /Users/nik-dergunov/RL_car_racing_cource_work1/RL_car_racing_cource_work1/videos folder (try specifying a different `video_folder` for the `RecordVideo` wrapper if this is not desired)\u001B[0m\n",
      "  logger.warn(\n"
     ]
    },
    {
     "name": "stdout",
     "output_type": "stream",
     "text": [
      "Moviepy - Building video /Users/nik-dergunov/RL_car_racing_cource_work1/RL_car_racing_cource_work1/videos/rl-video-episode-0.mp4.\n",
      "Moviepy - Writing video /Users/nik-dergunov/RL_car_racing_cource_work1/RL_car_racing_cource_work1/videos/rl-video-episode-0.mp4\n",
      "\n"
     ]
    },
    {
     "name": "stderr",
     "output_type": "stream",
     "text": [
      "                                                                \r"
     ]
    },
    {
     "name": "stdout",
     "output_type": "stream",
     "text": [
      "Moviepy - Done !\n",
      "Moviepy - video ready /Users/nik-dergunov/RL_car_racing_cource_work1/RL_car_racing_cource_work1/videos/rl-video-episode-0.mp4\n",
      "Episode terminated\n",
      "Moviepy - Building video /Users/nik-dergunov/RL_car_racing_cource_work1/RL_car_racing_cource_work1/videos/rl-video-episode-1.mp4.\n",
      "Moviepy - Writing video /Users/nik-dergunov/RL_car_racing_cource_work1/RL_car_racing_cource_work1/videos/rl-video-episode-1.mp4\n",
      "\n"
     ]
    },
    {
     "name": "stderr",
     "output_type": "stream",
     "text": [
      "                                                  "
     ]
    },
    {
     "name": "stdout",
     "output_type": "stream",
     "text": [
      "Moviepy - Done !\n",
      "Moviepy - video ready /Users/nik-dergunov/RL_car_racing_cource_work1/RL_car_racing_cource_work1/videos/rl-video-episode-1.mp4\n"
     ]
    },
    {
     "name": "stderr",
     "output_type": "stream",
     "text": [
      "\r"
     ]
    }
   ],
   "execution_count": 17
  },
  {
   "metadata": {
    "ExecuteTime": {
     "end_time": "2024-11-03T16:35:45.864431Z",
     "start_time": "2024-11-03T16:33:47.488941Z"
    }
   },
   "cell_type": "code",
   "source": "!tensorboard --logdir=ppo_carracing_tensorboard_n_stack_4_v2/PPO_8",
   "id": "175fd664e66b98a3",
   "outputs": [
    {
     "name": "stdout",
     "output_type": "stream",
     "text": [
      "TensorFlow installation not found - running with reduced feature set.\r\n",
      "Serving TensorBoard on localhost; to expose to the network, use a proxy or pass --bind_all\r\n",
      "TensorBoard 2.18.0 at http://localhost:6006/ (Press CTRL+C to quit)\r\n",
      "^C\r\n"
     ]
    }
   ],
   "execution_count": 12
  },
  {
   "metadata": {
    "ExecuteTime": {
     "end_time": "2024-11-03T15:47:06.194203Z",
     "start_time": "2024-11-03T15:46:32.461690Z"
    }
   },
   "cell_type": "code",
   "source": "!tensorboard --logdir=ppo_carracing_tensorboard_n_stack_4_v4/PPO_5",
   "id": "7ab9d234ac8cc24b",
   "outputs": [
    {
     "name": "stdout",
     "output_type": "stream",
     "text": [
      "TensorFlow installation not found - running with reduced feature set.\r\n",
      "Serving TensorBoard on localhost; to expose to the network, use a proxy or pass --bind_all\r\n",
      "TensorBoard 2.18.0 at http://localhost:6061/ (Press CTRL+C to quit)\r\n",
      "^C\r\n"
     ]
    }
   ],
   "execution_count": 25
  },
  {
   "metadata": {
    "ExecuteTime": {
     "end_time": "2024-11-03T16:51:14.802653Z",
     "start_time": "2024-11-03T16:42:01.935796Z"
    }
   },
   "cell_type": "code",
   "source": [
    "evaluate = evaluate_policy(PPO.load(\"best_model_n_stack_4_v2_200000/best_model.zip\"), setup_train_environment(), n_eval_episodes=100, render=False, deterministic=False)\n",
    "print(evaluate)"
   ],
   "id": "7291aab2b21a84bf",
   "outputs": [
    {
     "name": "stdout",
     "output_type": "stream",
     "text": [
      "(837.8972086499999, 106.15064331113716)\n"
     ]
    }
   ],
   "execution_count": 10
  },
  {
   "metadata": {
    "ExecuteTime": {
     "end_time": "2024-11-03T16:59:38.421108Z",
     "start_time": "2024-11-03T16:51:14.804629Z"
    }
   },
   "cell_type": "code",
   "source": [
    "evaluate = evaluate_policy(PPO.load(\"best_model_n_stack_4_v4_200000/best_model.zip\"), setup_train_environment(), n_eval_episodes=100, render=False, deterministic=False)\n",
    "print(evaluate)"
   ],
   "id": "df6a8f92bb10512f",
   "outputs": [
    {
     "name": "stdout",
     "output_type": "stream",
     "text": [
      "(749.05305755, 235.3853655524999)\n"
     ]
    }
   ],
   "execution_count": 11
  }
 ],
 "metadata": {
  "kernelspec": {
   "display_name": "Python 3",
   "language": "python",
   "name": "python3"
  },
  "language_info": {
   "codemirror_mode": {
    "name": "ipython",
    "version": 2
   },
   "file_extension": ".py",
   "mimetype": "text/x-python",
   "name": "python",
   "nbconvert_exporter": "python",
   "pygments_lexer": "ipython2",
   "version": "2.7.6"
  }
 },
 "nbformat": 4,
 "nbformat_minor": 5
}
